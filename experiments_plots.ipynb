{
 "cells": [
  {
   "cell_type": "code",
   "id": "initial_id",
   "metadata": {
    "collapsed": true,
    "ExecuteTime": {
     "end_time": "2024-12-23T20:52:41.373799Z",
     "start_time": "2024-12-23T20:52:39.512685Z"
    }
   },
   "source": [
    "import numpy as np\n",
    "import pandas as pd\n",
    "from matplotlib import pyplot as plt"
   ],
   "outputs": [],
   "execution_count": 4
  },
  {
   "metadata": {
    "ExecuteTime": {
     "end_time": "2024-12-23T20:53:04.472804Z",
     "start_time": "2024-12-23T20:53:04.443162Z"
    }
   },
   "cell_type": "code",
   "source": [
    "df = pd.read_csv('stats.txt', sep=',')\n",
    "df.head()"
   ],
   "id": "fe133f57843c2011",
   "outputs": [
    {
     "data": {
      "text/plain": [
       "                                        problem_name  planning_time  \\\n",
       "0  problems/problem-experiment_5x5_6_150_1/proble...       0.647604   \n",
       "1  problems/problem-experiment_5x5_6_150_1/proble...       0.819740   \n",
       "2  problems/problem-experiment_5x5_6_150_1/proble...       0.737229   \n",
       "3  problems/problem-experiment_5x5_6_150_1/proble...       0.633495   \n",
       "4  problems/problem-experiment_5x5_6_150_1/proble...       0.642722   \n",
       "\n",
       "   plan_length  \n",
       "0           13  \n",
       "1           30  \n",
       "2           24  \n",
       "3           16  \n",
       "4            9  "
      ],
      "text/html": [
       "<div>\n",
       "<style scoped>\n",
       "    .dataframe tbody tr th:only-of-type {\n",
       "        vertical-align: middle;\n",
       "    }\n",
       "\n",
       "    .dataframe tbody tr th {\n",
       "        vertical-align: top;\n",
       "    }\n",
       "\n",
       "    .dataframe thead th {\n",
       "        text-align: right;\n",
       "    }\n",
       "</style>\n",
       "<table border=\"1\" class=\"dataframe\">\n",
       "  <thead>\n",
       "    <tr style=\"text-align: right;\">\n",
       "      <th></th>\n",
       "      <th>problem_name</th>\n",
       "      <th>planning_time</th>\n",
       "      <th>plan_length</th>\n",
       "    </tr>\n",
       "  </thead>\n",
       "  <tbody>\n",
       "    <tr>\n",
       "      <th>0</th>\n",
       "      <td>problems/problem-experiment_5x5_6_150_1/proble...</td>\n",
       "      <td>0.647604</td>\n",
       "      <td>13</td>\n",
       "    </tr>\n",
       "    <tr>\n",
       "      <th>1</th>\n",
       "      <td>problems/problem-experiment_5x5_6_150_1/proble...</td>\n",
       "      <td>0.819740</td>\n",
       "      <td>30</td>\n",
       "    </tr>\n",
       "    <tr>\n",
       "      <th>2</th>\n",
       "      <td>problems/problem-experiment_5x5_6_150_1/proble...</td>\n",
       "      <td>0.737229</td>\n",
       "      <td>24</td>\n",
       "    </tr>\n",
       "    <tr>\n",
       "      <th>3</th>\n",
       "      <td>problems/problem-experiment_5x5_6_150_1/proble...</td>\n",
       "      <td>0.633495</td>\n",
       "      <td>16</td>\n",
       "    </tr>\n",
       "    <tr>\n",
       "      <th>4</th>\n",
       "      <td>problems/problem-experiment_5x5_6_150_1/proble...</td>\n",
       "      <td>0.642722</td>\n",
       "      <td>9</td>\n",
       "    </tr>\n",
       "  </tbody>\n",
       "</table>\n",
       "</div>"
      ]
     },
     "execution_count": 5,
     "metadata": {},
     "output_type": "execute_result"
    }
   ],
   "execution_count": 5
  },
  {
   "metadata": {
    "ExecuteTime": {
     "end_time": "2024-12-23T21:20:27.621207Z",
     "start_time": "2024-12-23T21:20:27.611383Z"
    }
   },
   "cell_type": "code",
   "source": [
    "df['is_subproblem'] = df['problem_name'].str.split('/').str.len() > 2\n",
    "df['problem'] = df['problem_name'].str.split('/').str[-1]\n",
    "df['size'] = df['problem'].str.split('_').str[1].str.split('x').str[0].astype(int)\n",
    "df['keys_count'] = df['problem'].str.split('_').str[2].astype(int)"
   ],
   "id": "2fdc6eb39e220c9",
   "outputs": [],
   "execution_count": 37
  },
  {
   "metadata": {
    "ExecuteTime": {
     "end_time": "2024-12-23T23:47:16.258324Z",
     "start_time": "2024-12-23T23:47:16.232733Z"
    }
   },
   "cell_type": "code",
   "source": [
    "df_subproblems = df[df['is_subproblem']].copy()\n",
    "\n",
    "df_subproblems['subproblem_part'] = df_subproblems['problem'].str.split('-').str[-1]\n",
    "df_subproblems['common_part'] = df_subproblems['problem'].str.split('-').str[:-1].str.join('-')\n",
    "\n",
    "df_subproblems.groupby(by=['common_part', 'size', 'keys_count'])[['planning_time', 'plan_length']].sum().reset_index()"
   ],
   "id": "cb56200a9c399823",
   "outputs": [
    {
     "data": {
      "text/plain": [
       "                                   common_part  size  keys_count  \\\n",
       "0    problem-experiment_5x5_6_150_1-subproblem     5           6   \n",
       "1   problem-experiment_5x5_6_150_10-subproblem     5           6   \n",
       "2    problem-experiment_5x5_6_150_2-subproblem     5           6   \n",
       "3    problem-experiment_5x5_6_150_3-subproblem     5           6   \n",
       "4    problem-experiment_5x5_6_150_4-subproblem     5           6   \n",
       "..                                         ...   ...         ...   \n",
       "65   problem-experiment_7x7_6_150_5-subproblem     7           6   \n",
       "66   problem-experiment_7x7_6_150_6-subproblem     7           6   \n",
       "67   problem-experiment_7x7_6_150_7-subproblem     7           6   \n",
       "68   problem-experiment_7x7_6_150_8-subproblem     7           6   \n",
       "69   problem-experiment_7x7_6_150_9-subproblem     7           6   \n",
       "\n",
       "    planning_time  plan_length  \n",
       "0        4.045366           96  \n",
       "1        4.656749          117  \n",
       "2        5.256875          103  \n",
       "3        5.090151          114  \n",
       "4        3.844271           50  \n",
       "..            ...          ...  \n",
       "65      31.141544          213  \n",
       "66     244.312817          404  \n",
       "67      64.536248          109  \n",
       "68      96.147081          284  \n",
       "69      28.233184          176  \n",
       "\n",
       "[70 rows x 5 columns]"
      ],
      "text/html": [
       "<div>\n",
       "<style scoped>\n",
       "    .dataframe tbody tr th:only-of-type {\n",
       "        vertical-align: middle;\n",
       "    }\n",
       "\n",
       "    .dataframe tbody tr th {\n",
       "        vertical-align: top;\n",
       "    }\n",
       "\n",
       "    .dataframe thead th {\n",
       "        text-align: right;\n",
       "    }\n",
       "</style>\n",
       "<table border=\"1\" class=\"dataframe\">\n",
       "  <thead>\n",
       "    <tr style=\"text-align: right;\">\n",
       "      <th></th>\n",
       "      <th>common_part</th>\n",
       "      <th>size</th>\n",
       "      <th>keys_count</th>\n",
       "      <th>planning_time</th>\n",
       "      <th>plan_length</th>\n",
       "    </tr>\n",
       "  </thead>\n",
       "  <tbody>\n",
       "    <tr>\n",
       "      <th>0</th>\n",
       "      <td>problem-experiment_5x5_6_150_1-subproblem</td>\n",
       "      <td>5</td>\n",
       "      <td>6</td>\n",
       "      <td>4.045366</td>\n",
       "      <td>96</td>\n",
       "    </tr>\n",
       "    <tr>\n",
       "      <th>1</th>\n",
       "      <td>problem-experiment_5x5_6_150_10-subproblem</td>\n",
       "      <td>5</td>\n",
       "      <td>6</td>\n",
       "      <td>4.656749</td>\n",
       "      <td>117</td>\n",
       "    </tr>\n",
       "    <tr>\n",
       "      <th>2</th>\n",
       "      <td>problem-experiment_5x5_6_150_2-subproblem</td>\n",
       "      <td>5</td>\n",
       "      <td>6</td>\n",
       "      <td>5.256875</td>\n",
       "      <td>103</td>\n",
       "    </tr>\n",
       "    <tr>\n",
       "      <th>3</th>\n",
       "      <td>problem-experiment_5x5_6_150_3-subproblem</td>\n",
       "      <td>5</td>\n",
       "      <td>6</td>\n",
       "      <td>5.090151</td>\n",
       "      <td>114</td>\n",
       "    </tr>\n",
       "    <tr>\n",
       "      <th>4</th>\n",
       "      <td>problem-experiment_5x5_6_150_4-subproblem</td>\n",
       "      <td>5</td>\n",
       "      <td>6</td>\n",
       "      <td>3.844271</td>\n",
       "      <td>50</td>\n",
       "    </tr>\n",
       "    <tr>\n",
       "      <th>...</th>\n",
       "      <td>...</td>\n",
       "      <td>...</td>\n",
       "      <td>...</td>\n",
       "      <td>...</td>\n",
       "      <td>...</td>\n",
       "    </tr>\n",
       "    <tr>\n",
       "      <th>65</th>\n",
       "      <td>problem-experiment_7x7_6_150_5-subproblem</td>\n",
       "      <td>7</td>\n",
       "      <td>6</td>\n",
       "      <td>31.141544</td>\n",
       "      <td>213</td>\n",
       "    </tr>\n",
       "    <tr>\n",
       "      <th>66</th>\n",
       "      <td>problem-experiment_7x7_6_150_6-subproblem</td>\n",
       "      <td>7</td>\n",
       "      <td>6</td>\n",
       "      <td>244.312817</td>\n",
       "      <td>404</td>\n",
       "    </tr>\n",
       "    <tr>\n",
       "      <th>67</th>\n",
       "      <td>problem-experiment_7x7_6_150_7-subproblem</td>\n",
       "      <td>7</td>\n",
       "      <td>6</td>\n",
       "      <td>64.536248</td>\n",
       "      <td>109</td>\n",
       "    </tr>\n",
       "    <tr>\n",
       "      <th>68</th>\n",
       "      <td>problem-experiment_7x7_6_150_8-subproblem</td>\n",
       "      <td>7</td>\n",
       "      <td>6</td>\n",
       "      <td>96.147081</td>\n",
       "      <td>284</td>\n",
       "    </tr>\n",
       "    <tr>\n",
       "      <th>69</th>\n",
       "      <td>problem-experiment_7x7_6_150_9-subproblem</td>\n",
       "      <td>7</td>\n",
       "      <td>6</td>\n",
       "      <td>28.233184</td>\n",
       "      <td>176</td>\n",
       "    </tr>\n",
       "  </tbody>\n",
       "</table>\n",
       "<p>70 rows × 5 columns</p>\n",
       "</div>"
      ]
     },
     "execution_count": 69,
     "metadata": {},
     "output_type": "execute_result"
    }
   ],
   "execution_count": 69
  },
  {
   "metadata": {
    "ExecuteTime": {
     "end_time": "2024-12-23T21:33:57.111809Z",
     "start_time": "2024-12-23T21:33:57.104280Z"
    }
   },
   "cell_type": "code",
   "source": [
    "df_grouped = df[df['plan_length'] != -1].groupby(by=['size', 'keys_count', 'is_subproblem'])['planning_time']\n",
    "\n",
    "df_means = df_grouped.mean().reset_index()\n",
    "df_std = df_grouped.std().reset_index()"
   ],
   "id": "c852c4f309bb1f27",
   "outputs": [],
   "execution_count": 51
  },
  {
   "metadata": {
    "ExecuteTime": {
     "end_time": "2024-12-23T21:34:01.672680Z",
     "start_time": "2024-12-23T21:34:01.663686Z"
    }
   },
   "cell_type": "code",
   "source": "df_means",
   "id": "3c9251bea1a5aa39",
   "outputs": [
    {
     "data": {
      "text/plain": [
       "    size  keys_count  is_subproblem  planning_time\n",
       "0      5           6          False       3.264696\n",
       "1      5           6           True       1.042885\n",
       "2      6           5          False      64.903376\n",
       "3      6           5           True       2.789653\n",
       "4      6           6          False      54.648835\n",
       "5      6           6           True       1.903426\n",
       "6      6           7          False      78.253443\n",
       "7      6           7           True       2.713581\n",
       "8      6           8          False      18.831492\n",
       "9      6           8           True       1.862358\n",
       "10     6           9          False     115.749390\n",
       "11     6           9           True       2.154274\n",
       "12     7           6          False      71.240499\n",
       "13     7           6           True      10.948792"
      ],
      "text/html": [
       "<div>\n",
       "<style scoped>\n",
       "    .dataframe tbody tr th:only-of-type {\n",
       "        vertical-align: middle;\n",
       "    }\n",
       "\n",
       "    .dataframe tbody tr th {\n",
       "        vertical-align: top;\n",
       "    }\n",
       "\n",
       "    .dataframe thead th {\n",
       "        text-align: right;\n",
       "    }\n",
       "</style>\n",
       "<table border=\"1\" class=\"dataframe\">\n",
       "  <thead>\n",
       "    <tr style=\"text-align: right;\">\n",
       "      <th></th>\n",
       "      <th>size</th>\n",
       "      <th>keys_count</th>\n",
       "      <th>is_subproblem</th>\n",
       "      <th>planning_time</th>\n",
       "    </tr>\n",
       "  </thead>\n",
       "  <tbody>\n",
       "    <tr>\n",
       "      <th>0</th>\n",
       "      <td>5</td>\n",
       "      <td>6</td>\n",
       "      <td>False</td>\n",
       "      <td>3.264696</td>\n",
       "    </tr>\n",
       "    <tr>\n",
       "      <th>1</th>\n",
       "      <td>5</td>\n",
       "      <td>6</td>\n",
       "      <td>True</td>\n",
       "      <td>1.042885</td>\n",
       "    </tr>\n",
       "    <tr>\n",
       "      <th>2</th>\n",
       "      <td>6</td>\n",
       "      <td>5</td>\n",
       "      <td>False</td>\n",
       "      <td>64.903376</td>\n",
       "    </tr>\n",
       "    <tr>\n",
       "      <th>3</th>\n",
       "      <td>6</td>\n",
       "      <td>5</td>\n",
       "      <td>True</td>\n",
       "      <td>2.789653</td>\n",
       "    </tr>\n",
       "    <tr>\n",
       "      <th>4</th>\n",
       "      <td>6</td>\n",
       "      <td>6</td>\n",
       "      <td>False</td>\n",
       "      <td>54.648835</td>\n",
       "    </tr>\n",
       "    <tr>\n",
       "      <th>5</th>\n",
       "      <td>6</td>\n",
       "      <td>6</td>\n",
       "      <td>True</td>\n",
       "      <td>1.903426</td>\n",
       "    </tr>\n",
       "    <tr>\n",
       "      <th>6</th>\n",
       "      <td>6</td>\n",
       "      <td>7</td>\n",
       "      <td>False</td>\n",
       "      <td>78.253443</td>\n",
       "    </tr>\n",
       "    <tr>\n",
       "      <th>7</th>\n",
       "      <td>6</td>\n",
       "      <td>7</td>\n",
       "      <td>True</td>\n",
       "      <td>2.713581</td>\n",
       "    </tr>\n",
       "    <tr>\n",
       "      <th>8</th>\n",
       "      <td>6</td>\n",
       "      <td>8</td>\n",
       "      <td>False</td>\n",
       "      <td>18.831492</td>\n",
       "    </tr>\n",
       "    <tr>\n",
       "      <th>9</th>\n",
       "      <td>6</td>\n",
       "      <td>8</td>\n",
       "      <td>True</td>\n",
       "      <td>1.862358</td>\n",
       "    </tr>\n",
       "    <tr>\n",
       "      <th>10</th>\n",
       "      <td>6</td>\n",
       "      <td>9</td>\n",
       "      <td>False</td>\n",
       "      <td>115.749390</td>\n",
       "    </tr>\n",
       "    <tr>\n",
       "      <th>11</th>\n",
       "      <td>6</td>\n",
       "      <td>9</td>\n",
       "      <td>True</td>\n",
       "      <td>2.154274</td>\n",
       "    </tr>\n",
       "    <tr>\n",
       "      <th>12</th>\n",
       "      <td>7</td>\n",
       "      <td>6</td>\n",
       "      <td>False</td>\n",
       "      <td>71.240499</td>\n",
       "    </tr>\n",
       "    <tr>\n",
       "      <th>13</th>\n",
       "      <td>7</td>\n",
       "      <td>6</td>\n",
       "      <td>True</td>\n",
       "      <td>10.948792</td>\n",
       "    </tr>\n",
       "  </tbody>\n",
       "</table>\n",
       "</div>"
      ]
     },
     "execution_count": 52,
     "metadata": {},
     "output_type": "execute_result"
    }
   ],
   "execution_count": 52
  },
  {
   "metadata": {
    "ExecuteTime": {
     "end_time": "2024-12-23T21:20:37.993563Z",
     "start_time": "2024-12-23T21:20:37.987469Z"
    }
   },
   "cell_type": "code",
   "source": [
    "df_full_problems = df[~df['is_subproblem']]\n",
    "df_subproblems = df[df['is_subproblem']]"
   ],
   "id": "70e401be6bdb0e3a",
   "outputs": [],
   "execution_count": 38
  },
  {
   "metadata": {
    "ExecuteTime": {
     "end_time": "2024-12-23T21:37:04.960345Z",
     "start_time": "2024-12-23T21:37:04.955272Z"
    }
   },
   "cell_type": "code",
   "source": [
    "df_means_size6 = df_means[df_means['size'] == 6]\n",
    "df_stds_size6 = df_std[df_std['size'] == 6]\n",
    "\n",
    "df_means_size6_subproblems = df_means_size6[df_means_size6['is_subproblem']]\n",
    "df_means_size6_full_problems = df_means_size6[~df_means_size6['is_subproblem']]"
   ],
   "id": "aae90ea30742d55e",
   "outputs": [],
   "execution_count": 54
  },
  {
   "metadata": {
    "ExecuteTime": {
     "end_time": "2024-12-23T21:40:08.126889Z",
     "start_time": "2024-12-23T21:40:08.120791Z"
    }
   },
   "cell_type": "code",
   "source": "df_means_size6_full_problems['keys_count']",
   "id": "bf32b95ed98b438e",
   "outputs": [
    {
     "data": {
      "text/plain": [
       "2     5\n",
       "4     6\n",
       "6     7\n",
       "8     8\n",
       "10    9\n",
       "Name: keys_count, dtype: int64"
      ]
     },
     "execution_count": 64,
     "metadata": {},
     "output_type": "execute_result"
    }
   ],
   "execution_count": 64
  },
  {
   "metadata": {
    "ExecuteTime": {
     "end_time": "2024-12-23T21:39:29.201739Z",
     "start_time": "2024-12-23T21:39:29.137498Z"
    }
   },
   "cell_type": "code",
   "source": [
    "plt.bar(df_means_size6_full_problems['keys_count'], df_means_size6_full_problems['planning_time'])\n",
    "plt.show()"
   ],
   "id": "90eadbc1487c76b",
   "outputs": [
    {
     "data": {
      "text/plain": [
       "<Figure size 640x480 with 1 Axes>"
      ],
      "image/png": "[encoded data removed]"
     },
     "metadata": {},
     "output_type": "display_data"
    }
   ],
   "execution_count": 63
  },
  {
   "metadata": {},
   "cell_type": "code",
   "outputs": [],
   "execution_count": null,
   "source": "",
   "id": "eca49569c47dcd41"
  }
 ],
 "metadata": {
  "kernelspec": {
   "display_name": "Python 3",
   "language": "python",
   "name": "python3"
  },
  "language_info": {
   "codemirror_mode": {
    "name": "ipython",
    "version": 2
   },
   "file_extension": ".py",
   "mimetype": "text/x-python",
   "name": "python",
   "nbconvert_exporter": "python",
   "pygments_lexer": "ipython2",
   "version": "2.7.6"
  }
 },
 "nbformat": 4,
 "nbformat_minor": 5
}
